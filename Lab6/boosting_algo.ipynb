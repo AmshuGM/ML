{
 "cells": [
  {
   "cell_type": "markdown",
   "id": "f45db7c2",
   "metadata": {},
   "source": [
    "# AdaBoost Classifier on Iris Dataset"
   ]
  },
  {
   "cell_type": "code",
   "execution_count": 1,
   "id": "1e0be6b4",
   "metadata": {},
   "outputs": [],
   "source": [
    "# Import necessary libraries\n",
    "import pandas as pd\n",
    "import numpy as np\n",
    "import matplotlib.pyplot as plt\n",
    "from sklearn.datasets import load_iris\n",
    "from sklearn.model_selection import train_test_split\n",
    "from sklearn.ensemble import AdaBoostClassifier\n",
    "from sklearn.metrics import accuracy_score\n",
    "from mlxtend.plotting import plot_decision_regions"
   ]
  },
  {
   "cell_type": "markdown",
   "id": "c186a77d",
   "metadata": {},
   "source": [
    "## Step 1: Load the Iris Dataset\n",
    "\n",
    "We will load the Iris dataset from scikit-learn and split it into training and testing sets."
   ]
  },
  {
   "cell_type": "code",
   "execution_count": 2,
   "id": "ef6c467a",
   "metadata": {},
   "outputs": [],
   "source": [
    "# Load the Iris dataset\n",
    "iris = load_iris()\n",
    "X = iris.data\n",
    "y = iris.target"
   ]
  },
  {
   "cell_type": "code",
   "execution_count": 3,
   "id": "cc046540",
   "metadata": {},
   "outputs": [],
   "source": [
    "# Split the dataset into training and testing sets\n",
    "X_train, X_test, y_train, y_test = train_test_split(X, y, test_size=0.2, random_state=42)"
   ]
  },
  {
   "cell_type": "markdown",
   "id": "eb17d9f6",
   "metadata": {},
   "source": [
    "## Step 2: Initialize and Train the AdaBoost Classifier\n",
    "\n",
    "Next, we'll initialize the AdaBoost classifier and train it on the training data."
   ]
  },
  {
   "cell_type": "code",
   "execution_count": 4,
   "id": "a23423e1",
   "metadata": {},
   "outputs": [],
   "source": [
    "# Initialize the AdaBoost classifier\n",
    "adaboost_classifier = AdaBoostClassifier(n_estimators=50, random_state=42)\n",
    "\n",
    "# Train the classifier on the training data\n",
    "adaboost_classifier.fit(X_train, y_train)"
   ]
  },
  {
   "cell_type": "markdown",
   "id": "532df365",
   "metadata": {},
   "source": [
    "## Step 3: Predict and Evaluate\n",
    "\n",
    "Finally, we'll predict the labels for the test set and evaluate the accuracy of the classifier."
   ]
  },
  {
   "cell_type": "code",
   "execution_count": 5,
   "id": "4c2a443f",
   "metadata": {},
   "outputs": [],
   "source": [
    "# Predict the labels for the test set\n",
    "y_pred = adaboost_classifier.predict(X_test)\n",
    "\n",
    "# Calculate the accuracy of the classifier\n",
    "accuracy = accuracy_score(y_test, y_pred)\n",
    "print(\"Accuracy:\", accuracy)"
   ]
  },
  {
   "cell_type": "markdown",
   "id": "2e39e704",
   "metadata": {},
   "source": [
    "## Step 4: Visualize the Decision Boundary\n",
    "\n",
    "Let's visualize the decision boundary of the AdaBoost classifier."
   ]
  },
  {
   "cell_type": "code",
   "execution_count": null,
   "id": "7663f0f1",
   "metadata": {},
   "outputs": [],
   "source": [
    "# Define plot_decision_boundary function\n",
    "def plot_decision_boundary(X, y, classifier, title):\n",
    "    plt.figure(figsize=(8, 6))\n",
    "    plot_decision_regions(X, y, clf=classifier, legend=2)\n",
    "    plt.xlabel('Feature 1')\n",
    "    plt.ylabel('Feature 2')\n",
    "    plt.title(title)\n",
    "    plt.show()"
   ]
  },
  {
   "cell_type": "code",
   "execution_count": 7,
   "id": "bd932fa9",
   "metadata": {},
   "outputs": [],
   "source": [
    "# Visualize the decision boundary\n",
    "plot_decision_boundary(X_train[:, :2], y_train, adaboost_classifier, 'Decision Boundary of AdaBoost Classifier')"
   ]
  },
  {
   "cell_type": "markdown",
   "id": "7de30487",
   "metadata": {},
   "source": [
    "## Step 5: Feature Importances\n",
    "\n",
    "Let's visualize the feature importances of the AdaBoost classifier."
   ]
  },
  {
   "cell_type": "code",
   "execution_count": 8,
   "id": "8bb135dc",
   "metadata": {},
   "outputs": [],
   "source": [
    "# Get feature importances\n",
    "feature_importances = adaboost_classifier.feature_importances_\n",
    "feature_names = iris.feature_names\n",
    "\n",
    "# Create DataFrame for visualization\n",
    "feature_df = pd.DataFrame({'Feature': feature_names, 'Importance': feature_importances})\n",
    "feature_df = feature_df.sort_values(by='Importance', ascending=False)\n",
    "\n",
    "# Visualize the feature importances\n",
    "plt.figure(figsize=(10, 6))\n",
    "plt.bar(feature_df['Feature'], feature_df['Importance'])\n",
    "plt.xlabel('Feature')\n",
    "plt.ylabel('Importance')\n",
    "plt.title('Feature Importances')\n",
    "plt.xticks(rotation=45)\n",
    "plt.show()"
   ]
  }
 ],
 "metadata": {
  "kernelspec": {
   "display_name": "Python 3",
   "language": "python",
   "name": "python3"
  },
  "language_info": {
   "codemirror_mode": {
    "name": "ipython",
    "version": 3
   },
   "file_extension": ".py",
   "mimetype": "text/x-python",
   "name": "python",
   "nbconvert_exporter": "python",
   "pygments_lexer": "ipython3",
   "version": "3.8.8"
  }
 },
 "nbformat": 4,
 "nbformat_minor": 5
}
