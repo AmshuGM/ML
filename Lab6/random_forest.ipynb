{
    "cells": [
     {
      "cell_type": "markdown",
      "metadata": {},
      "source": [
       "# Wine Quality Classification\n",
       "\n",
       "In this notebook, we will demonstrate how to load the Wine Quality dataset, preprocess it, and apply a Random Forest classifier to predict the quality of wines."
      ]
     },
     {
      "cell_type": "code",
      "execution_count": 1,
      "metadata": {},
      "outputs": [],
      "source": [
       "# Import necessary libraries\n",
       "import pandas as pd\n",
       "from sklearn.model_selection import train_test_split\n",
       "from sklearn.ensemble import RandomForestClassifier\n",
       "from sklearn.metrics import accuracy_score"
      ]
     },
     {
      "cell_type": "markdown",
      "metadata": {},
      "source": [
       "## Step 1: Load the Wine Quality Dataset\n",
       "\n",
       "We will load the Wine Quality dataset from the UCI Machine Learning Repository and display the first few rows of the dataset."
      ]
     },
     {
      "cell_type": "code",
      "execution_count": 2,
      "metadata": {},
      "outputs": [],
      "source": [
       "# Load the Wine Quality dataset\n",
       "url = \"https://archive.ics.uci.edu/ml/machine-learning-databases/wine-quality/winequality-red.csv\"\n",
       "wine_data = pd.read_csv(url, sep=';')"
      ]
     },
     {
      "cell_type": "code",
      "execution_count": 3,
      "metadata": {},
      "outputs": [
       {
        "name": "stdout",
        "output_type": "stream",
        "text": [
         "First few rows of the dataset:\n",
         "   fixed acidity  volatile acidity  citric acid  residual sugar  chlorides  \\\n",
         "0            7.4              0.70         0.00             1.9      0.076   \n",
         "1            7.8              0.88         0.00             2.6      0.098   \n",
         "2            7.8              0.76         0.04             2.3      0.092   \n",
         "3           11.2              0.28         0.56             1.9      0.075   \n",
         "4            7.4              0.70         0.00             1.9      0.076   \n",
         "\n",
         "   free sulfur dioxide  total sulfur dioxide  density    pH  sulphates  \\\n",
         "0                 11.0                  34.0   0.9978  3.51       0.56   \n",
         "1                 25.0                  67.0   0.9968  3.20       0.68   \n",
         "2                 15.0                  54.0   0.9970  3.26       0.65   \n",
         "3                 17.0                  60.0   0.9980  3.16       0.58   \n",
         "4                 11.0                  34.0   0.9978  3.51       0.56   \n",
         "\n",
         "   alcohol  quality  \n",
         "0      9.4        5  \n",
         "1      9.8        5  \n",
         "2      9.8        5  \n",
         "3      9.8        6  \n",
         "4      9.4        5  \n"
        ]
       }
      ],
      "source": [
       "# Display the first few rows of the dataset\n",
       "print(\"First few rows of the dataset:\")\n",
       "print(wine_data.head())"
      ]
     },
     {
      "cell_type": "markdown",
      "metadata": {},
      "source": [
       "## Step 2: Preprocess the Data\n",
       "\n",
       "For simplicity, we'll consider wine quality as binary: 'good' (1) or 'not good' (0)."
      ]
     },
     {
      "cell_type": "code",
      "execution_count": 4,
      "metadata": {},
      "outputs": [],
      "source": [
       "# Preprocess the data\n",
       "# Convert wine quality into binary labels\n",
       "wine_data['quality'] = wine_data['quality'].apply(lambda x: 1 if x >= 7 else 0)"
      ]
     },
     {
      "cell_type": "markdown",
      "metadata": {},
      "source": [
       "## Step 3: Split the Dataset\n",
       "\n",
       "Next, we'll separate features (X) and the target variable (y), and split the dataset into training and testing sets."
      ]
     },
     {
      "cell_type": "code",
      "execution_count": 5,
      "metadata": {},
      "outputs": [],
      "source": [
       "# Separate features (X) and target variable (y)\n",
       "X = wine_data.drop('quality', axis=1)\n",
       "y = wine_data['quality']\n",
       "\n",
       "# Split the dataset into training and testing sets\n",
       "X_train, X_test, y_train, y_test = train_test_split(X, y, test_size=0.2, random_state=42)"
      ]
     },
     {
      "cell_type": "markdown",
      "metadata": {},
      "source": [
       "## Step 4: Apply Random Forest Classifier\n",
       "\n",
       "Now, let's initialize a Random Forest classifier, train it on the training data, and predict the labels for the test set."
      ]
     },
     {
      "cell_type": "code",
      "execution_count": 6,
      "metadata": {},
      "outputs": [],
      "source": [
       "# Initialize the Random Forest classifier\n",
       "rf_classifier = RandomForestClassifier(n_estimators=100, random_state=42)\n",
       "\n",
       "# Train the classifier on the training data\n",
       "rf_classifier.fit(X_train, y_train)\n",
       "\n",
       "# Predict the labels for the test set\n",
       "y_pred = rf_classifier.predict(X_test)"
      ]
     },
     {
      "cell_type": "markdown",
      "metadata": {},
      "source": [
       "## Step 5: Evaluate the Classifier\n",
       "\n",
       "Finally, let's calculate the accuracy of the classifier."
      ]
     },
     {
      "cell_type": "code",
      "execution_count": 7,
      "metadata": {},
      "outputs": [],
      "source": [
       "# Calculate the accuracy of the classifier\n",
       "accuracy = accuracy_score(y_test, y_pred)\n",
       "print(\"Accuracy:\", accuracy)"
      ]
     }
    ],
    "metadata": {
     "kernelspec": {
      "display_name": "Python 3",
      "language": "python",
      "name": "python3"
     },
     "language_info": {
      "codemirror_mode": {
       "name": "ipython",
       "version": 3
      },
      "file_extension": ".py",
      "mimetype": "text/x-python",
      "name": "python",
      "nbconvert_exporter": "python",
      "pygments_lexer": "ipython3",
      "version": "3.8.8"
     }
    },
    "nbformat": 4,
    "nbformat_minor": 5
   }
   